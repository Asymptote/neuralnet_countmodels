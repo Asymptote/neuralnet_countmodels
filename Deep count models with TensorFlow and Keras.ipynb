{
 "cells": [
  {
   "cell_type": "markdown",
   "metadata": {},
   "source": [
    "# Cross entropy and maximum likelihood\n",
    "\n",
    "\n",
    "In this notebook, I'll try to explain how to deal with count data in deep learning and how to implement in Python using [TensorFlow](http://tensorflow.org). Before going into details of count data modelling, let's first remember the link between the loss functions and maximum likelihood estimates.\n",
    "\n",
    "## Binary classification\n",
    "\n",
    "For classification problems, a commonly used loss (error) function in deep learning is [cross entropy](https://en.wikipedia.org/wiki/Cross_entropy):\n",
    "\n",
    "$$ H(p,q)=-\\sum_x p(x)\\log q(x) $$\n",
    "\n",
    "where $p$ and $q$ represents data and model distributions respectively and the aim is to make the model distribution $q$ (our predictions) as close as possible to $p$ (labels of the data) in terms of cross entropy. Therefore this quantity is minimized.\n",
    "\n",
    "If the task is binary classification, then it's called binary cross entropy (BCE) which looks like: \n",
    "\n",
    "$$ \\text{BCE}(y,\\hat{y})=-y\\log\\hat{y} - (1-y)\\log(1-\\hat{y})$$\n",
    "\n",
    "where $y$ and $\\hat{y}$ represent the ground truth (data distribution) and our prediction (model distribution), respectively. To see that it is actually the negative log likelihood of [Bernoulli distribution](https://en.wikipedia.org/wiki/Bernoulli_distribution), let's have a closer look at Bernoulli. Likelihood function of Bernoulli is given below\n",
    "\n",
    "$$ L_{bernoulli}(x;p) = \\begin{cases}\n",
    "                            p   & \\text{if } x = 1, \\\\\n",
    "                            1-p & \\text{if } x = 0.\n",
    "                        \\end{cases}\n",
    "$$\n",
    "\n",
    "$p$ here, in the interval $[0-1]$, is the only parameter of Bernoulli, which also corresponds to the mean of the distributon. Same likelihood function can also be expressed as \n",
    "\n",
    "$$ L_{bernoulli}(x;p) = p^x + (1-p)^{(1-x)}$$ \n",
    "\n",
    "whereas the negative log likelihood can be written as\n",
    "\n",
    "$$ NLL_{bernoulli}(x; p) = -x\\log p - (1-x)\\log(1-p) $$\n",
    "\n",
    "Here we, unsurprisingly, ended up with binary cross entropy and showed that binary cross entropy loss function used in deep learning is basically MLE of Bernoulli. (It is trivial to extend this to categorical cross entropy for multiclass problems. For regression and the link between the mean squared error function and MLE of Normal distribution, see chapter 5.5.2 in the [deep learning book](http://www.deeplearningbook.org/contents/ml.html).)\n",
    "\n",
    "In logistic regression (and deep learning for binary classification), we try to find the maximum of conditional likelihood, meaning that we estimate the mean parameter of Bernoulli ($p$) given data $X$: \n",
    "\n",
    "$$ \\text{arg}\\max\\limits_{W}\\,\\sum_i y_i\\log f(x_i,W) + (1-y_i)\\log(1-f(x_i, W))  $$\n",
    "\n",
    "where\n",
    "\n",
    "$$f(x_i, W) = \\text{sigmoid}(W\\cdot x_i)$$\n",
    "\n",
    "in a linear model. Sigmoid function here, which converts the linear transformation of the data into the mean of the distribution, is referred to as the *inverse [link function](https://en.wikipedia.org/wiki/Generalized_linear_model#Link_function)* in generalized linear model (GLM) literature and stats community whereas it is called the *activation function* in the neural network community. We can formulate $f$ as a n-layer feed-forward neural network as follows:\n",
    "\n",
    "$$f(X, W) = g_n(... (g_2(g_1(X, W_1), W_2))..., W_n)$$\n",
    "\n",
    "where $g_n$ is sigmoid (bias terms are avoided for brevity). We can now generalize loss functions via formulations of MLEs: \n",
    "\n",
    "$$ \\hat{W} = \\text{arg}\\max\\limits_{W}\\, P(Y|X, W)$$\n",
    "\n",
    "Now let's explore how to model the count data using other discrete probability distributions such as Possion or negative binomial.\n",
    "\n",
    "## Loss functions for count data \n",
    "\n",
    "### Poisson case\n",
    "\n",
    "Now let's imagine that our labels, which were binary in previous case, can only take non-negative integer values ${0,1,2,...}$. Although, this might look similar to classification labels where we again have integer values, in this case there is no fixed upper bound and the variable is ordinal so that the distance between $1$ and $3$, and $1$ and $2$ are not the same as we have in categorical data e.g. one-hot encoded class labels. \n",
    "\n",
    "This type of data, called [count data](https://en.wikipedia.org/wiki/Count_data), can be generated through a process where the number of occurences of an event, is counted. If the interval where we count the occurences is fixed, then this process is called the Possion process and the data can be modelled using the [Possion distribution](https://en.wikipedia.org/wiki/Poisson_distribution). Now we can derive the loss function based on the Possion distribution, instead of Bernoulli:\n",
    "\n",
    "$$ L_{poisson}(x;\\lambda) = \\frac{\\lambda^x \\exp(-\\lambda)}{x!}$$\n",
    "\n",
    "where the only parameter $\\lambda$ represents both the mean and the variance of the distribution. The negative log likelihood is:\n",
    "\n",
    "$$ NLL_{poisson}(x;\\lambda) = \\lambda - x\\log{\\lambda}+ \\log(x!)$$\n",
    "\n",
    "For the maximizing the conditional likelihood, we can now define the minimization of negative log likelihood as\n",
    "\n",
    "$$ \\text{arg}\\min\\limits_{W}\\,\\sum_i f(x_i, W) - y\\log{f(x_i, W)} $$\n",
    "\n",
    "where we estimate the $\\lambda$ parameter of Possion conditioned on data $X$ and our parameters $W$.\n",
    "\n",
    "Now, the only missing ingredient is the correct activation function which was sigmoid in Bernoulli case. The exponential function (which corresponds to log link function) is the classical one used in Possion regression, which makes sense since it brings the range from ($-\\infty,\\infty$) to ($0, \\infty$), however a [rectifier](https://en.wikipedia.org/wiki/Rectifier_(neural_networks)) such as SoftPlus, $f(x)=\\log(1+\\exp(x))$, might be a better idea in the neural network setting since the exponential can easily blow up the values and lead to overflow.\n",
    "\n",
    "We can implement the loss function and test it simply by finding MLE of generated toy data and comparing it to sample mean which is an unbiased MLE of Possion mean parameter:"
   ]
  },
  {
   "cell_type": "code",
   "execution_count": 1,
   "metadata": {
    "collapsed": false
   },
   "outputs": [],
   "source": [
    "import tensorflow as tf\n",
    "import numpy as np\n",
    "import pandas as pd\n",
    "from matplotlib import pyplot as plt\n",
    "import seaborn as sns\n",
    "\n",
    "sns.set(color_codes=True)\n",
    "%matplotlib inline\n",
    "np.random.seed(42)\n",
    "\n",
    "# In the implementations, I try to keep the function signature\n",
    "# similar to those of Keras objective functions so that\n",
    "# later on we can use them in Keras smoothly:\n",
    "# https://github.com/fchollet/keras/blob/master/keras/objectives.py#L7\n",
    "def poisson_loss(y_true, y_pred):\n",
    "    y_pred = tf.cast(y_pred, tf.float32)\n",
    "    y_true = tf.cast(y_true, tf.float32)\n",
    "    \n",
    "    # we can use the Possion PMF from TensorFlow as well\n",
    "    # dist = tf.contrib.distributions\n",
    "    # return -tf.reduce_mean(dist.Poisson(y_pred).log_pmf(y_true))\n",
    "    \n",
    "    # last term can be avoided since it doesn't depend on y_pred\n",
    "    # however keeping it gives a nice lower bound to zero\n",
    "    return tf.reduce_mean(y_pred - y_true*tf.log(y_pred+1e-10) + \\\n",
    "                          tf.lgamma(y_true+1.0))\n",
    "\n",
    "# Apparently this is already implemented in Keras:\n",
    "# https://github.com/fchollet/keras/blob/master/keras/objectives.py"
   ]
  },
  {
   "cell_type": "markdown",
   "metadata": {},
   "source": [
    "Let's draw samples from Poisson:"
   ]
  },
  {
   "cell_type": "code",
   "execution_count": 2,
   "metadata": {
    "collapsed": false,
    "scrolled": true
   },
   "outputs": [
    {
     "data": {
      "image/png": "[encoded data removed]",
      "text/plain": [
       "<matplotlib.figure.Figure at 0x7fd80ca2d668>"
      ]
     },
     "metadata": {},
     "output_type": "display_data"
    }
   ],
   "source": [
    "# true Poisson mean parameter\n",
    "poisson_mean = 4\n",
    "poisson_numsample = 200\n",
    "\n",
    "# Poisson sampling is still not implemented in TF\n",
    "samples = np.random.poisson(poisson_mean, poisson_numsample)\n",
    "_ = sns.distplot(samples, kde=False, bins=range(max(samples)))"
   ]
  },
  {
   "cell_type": "markdown",
   "metadata": {},
   "source": [
    "Here we generated samples from a Poisson with $\\lambda=4$. Now we will estimate the mean using gradient descent in TensorFlow."
   ]
  },
  {
   "cell_type": "code",
   "execution_count": 3,
   "metadata": {
    "collapsed": false
   },
   "outputs": [
    {
     "name": "stdout",
     "output_type": "stream",
     "text": [
      "Initial value of mean parameter: [ 0.00526125]\n",
      "\n",
      "--> Step 0, possion loss: 8.135\n",
      "--> Step 50, possion loss: 4.772\n",
      "--> Step 100, possion loss: 2.447\n",
      "--> Step 150, possion loss: 2.092\n",
      "--> Step 200, possion loss: 2.092\n",
      "--> Step 250, possion loss: 2.092\n",
      "\n",
      "Estimated mean: 3.9064345359802246\n",
      "Sample mean: 3.855\n",
      "True mean: 4\n"
     ]
    }
   ],
   "source": [
    "# random poisson mean parameter\n",
    "param = tf.Variable(tf.random_uniform([1], 0.001, 0.01))\n",
    "\n",
    "# create the optimizer\n",
    "optimizer = tf.train.RMSPropOptimizer(0.1)\n",
    "loss = poisson_loss(samples, param)\n",
    "\n",
    "# let's minimize neg. log lik.\n",
    "train_step = optimizer.minimize(loss)\n",
    "\n",
    "with tf.Session() as sess:\n",
    "    sess.run(tf.global_variables_initializer())\n",
    "    print('Initial value of mean parameter: {}\\n'\n",
    "          .format(param.eval()))\n",
    "    for i in range(300): \n",
    "        sess.run(train_step)\n",
    "        if i % 50 == 0: \n",
    "            print('--> Step {}, possion loss: {:.4}'\n",
    "                  .format(i, loss.eval()))\n",
    "    print('\\nEstimated mean: {}'.format(param.eval()[0]))\n",
    "    print('Sample mean: {}'.format(np.mean(samples)))\n",
    "    print('True mean: {}'.format(poisson_mean))"
   ]
  },
  {
   "cell_type": "markdown",
   "metadata": {
    "collapsed": true
   },
   "source": [
    "### Negative binomial case\n",
    "\n",
    "The major limitation of Poisson distribution is that the mean and variance are equal and are controlled by a single parameter, $\\lambda$. This, however, is not realistic in many real world cases. [Negative binomial](https://en.wikipedia.org/wiki/Negative_binomial_distribution) (NB) is another discrete distribution which can be used when mean and variance of the data are not equal. Although the classical textbook definition of NB is *the number of successes before a specified number of failures occur in i.i.d Bernoulli trials*, the alternative parameterization with mean ($\\mu$) and dispersion ($\\theta$) is more intuitive and useful. See these [lecture notes](https://www.unc.edu/courses/2010fall/ecol/563/001/docs/lectures/lecture6.htm) for a nice derivation of this parameterization. Here is the probability mass function according to this parameterization:\n",
    "\n",
    "\n",
    "$$ L_{nbinom}(x;\\mu,\\theta) = \\frac{\\Gamma(x+\\theta)}{\\Gamma(\\theta)\\Gamma(x+1)}\\left( \\frac{\\theta}{\\theta+\\mu}\\right)^\\theta\\left(\\frac{\\mu}{\\theta+\\mu}\\right)^x$$\n",
    "\n",
    "where parameters $\\mu$ and $\\theta$ represent the mean and dispersion. The negative log likelihood is:\n",
    "\n",
    "$$ NLL_{nbinom}(x;\\mu,\\theta) = -\\log\\Gamma(x+\\theta)+\\log\\Gamma(\\theta)+\\log\\Gamma(x+1)-\\theta\\left(\\log\\theta-\\log(\\theta+\\mu)\\right)-x\\left(\\log\\mu-\\log(\\theta+\\mu)\\right)$$\n",
    "\n",
    "Note that, this reduces to Poisson as $\\theta\\to\\infty$. Here we will use $\\theta^{-1}$ as the dispersion parameter since it is more convenient e.g. we can initialize $\\theta^{-1}$ to $0$. We can now implement NB loss in Tensorflow:"
   ]
  },
  {
   "cell_type": "code",
   "execution_count": 4,
   "metadata": {
    "collapsed": true
   },
   "outputs": [],
   "source": [
    "# We need a closure here, because it's not possible to\n",
    "# pass extra arguments to Keras loss functions\n",
    "# See https://github.com/fchollet/keras/issues/2121\n",
    "\n",
    "def nbinom_closure(theta=None, theta_init=[0.0]):\n",
    "\n",
    "    # for numerical stability\n",
    "    eps = 1e-10\n",
    "    \n",
    "    # a variable may be given by user or it can be created here\n",
    "    if theta is None:\n",
    "        theta = tf.Variable(theta_init, dtype=tf.float32, name='theta')\n",
    "    \n",
    "    # to keep dispersion always non-negative\n",
    "    theta = tf.nn.softplus(theta)\n",
    "    \n",
    "    def nbinom_loss(y_true, y_pred):\n",
    "        nonlocal theta\n",
    "        \n",
    "        y_true = tf.cast(y_true, tf.float32)\n",
    "        y_pred = tf.cast(y_pred, tf.float32)\n",
    "        theta = 1.0 / (theta+eps)\n",
    "    \n",
    "        return -tf.reduce_mean(\n",
    "            tf.lgamma(y_true+theta+eps) - tf.lgamma(theta+eps) - \\\n",
    "            tf.lgamma(y_true+1.0) + \\\n",
    "            (theta * (tf.log(theta+eps) - tf.log(theta+y_pred+eps))) + \\\n",
    "            (y_true * (tf.log(y_pred+eps) - tf.log(y_pred+theta+eps)))\n",
    "        )\n",
    "    \n",
    "    return nbinom_loss, theta"
   ]
  },
  {
   "cell_type": "markdown",
   "metadata": {},
   "source": [
    "Now let's generate random samples from negative binomial using Gamma and Poisson distributions since it also corresponds to a [Poisson-Gamma mixture](https://en.wikipedia.org/wiki/Negative_binomial_distribution#Gamma.E2.80.93Poisson_mixture):"
   ]
  },
  {
   "cell_type": "code",
   "execution_count": 5,
   "metadata": {
    "collapsed": false
   },
   "outputs": [
    {
     "data": {
      "image/png": "[encoded data removed]",
      "text/plain": [
       "<matplotlib.figure.Figure at 0x7fd80ca2d048>"
      ]
     },
     "metadata": {},
     "output_type": "display_data"
    }
   ],
   "source": [
    "def random_nbinom(mean, disp, n=None):\n",
    "    eps = 1e-10\n",
    "    # translate these into gamma parameters\n",
    "    gamma_shape = 1 / (disp+eps)\n",
    "    gamma_scale = (mean / (gamma_shape+eps))+eps\n",
    "    gamma_samples = np.random.gamma(gamma_shape, gamma_scale, n)\n",
    "    return np.random.poisson(gamma_samples)\n",
    "\n",
    "nb_mean = 4\n",
    "nb_disp = 5.5\n",
    "nb_numsample = 1000\n",
    "nb_samples = random_nbinom(nb_mean, nb_disp, nb_numsample)\n",
    "_ = sns.distplot(nb_samples, kde=False, bins=range(max(nb_samples)))"
   ]
  },
  {
   "cell_type": "markdown",
   "metadata": {},
   "source": [
    "Let's jointly estimate mean and dispersion parameters using gradient descent:"
   ]
  },
  {
   "cell_type": "code",
   "execution_count": 6,
   "metadata": {
    "collapsed": false
   },
   "outputs": [
    {
     "name": "stdout",
     "output_type": "stream",
     "text": [
      "Initial (random) value of parameter mu: [ 0.00604647]\n",
      "Initial value of parameter theta: [ 0.69314718]\n",
      "\n",
      "--> Step 0, nbinom loss: 15.3\n",
      "\n",
      "Estimated parameter mu: [ 0.03766895]\n",
      "--> Step 200, nbinom loss: 2.599\n",
      "\n",
      "Estimated parameter mu: [ 1.36288285]\n",
      "--> Step 400, nbinom loss: 2.085\n",
      "\n",
      "Estimated parameter mu: [ 3.07467389]\n",
      "--> Step 600, nbinom loss: 2.046\n",
      "\n",
      "Estimated parameter mu: [ 4.27598953]\n",
      "--> Step 800, nbinom loss: 2.046\n",
      "\n",
      "Estimated parameter mu: [ 4.27117634]\n",
      "Estimated parameter theta: [ 5.54187822]\n",
      "Sample mean: 4.276\n",
      "True parameter mu: 4\n",
      "True parameter theta: 5.5\n"
     ]
    }
   ],
   "source": [
    "# nb mean parameter should be positive\n",
    "# we can ignore it for now though\n",
    "param_mu = tf.Variable(tf.random_uniform([1], 0.001, 0.01))\n",
    "nbinom_loss, param_theta = nbinom_closure()\n",
    "\n",
    "optimizer = tf.train.RMSPropOptimizer(0.01)\n",
    "loss = nbinom_loss(nb_samples, param_mu)\n",
    "\n",
    "# let's minimize neg. log lik.\n",
    "train_step = optimizer.minimize(loss)\n",
    "\n",
    "with tf.Session() as sess:\n",
    "    sess.run(tf.global_variables_initializer())\n",
    "    print('Initial (random) value of parameter mu: {}'\n",
    "          .format(param_mu.eval()))\n",
    "    print('Initial value of parameter theta: {}\\n'\n",
    "          .format(param_theta.eval()))\n",
    "    for i in range(1000): \n",
    "        sess.run(train_step)\n",
    "        if i % 200 == 0: \n",
    "            print('--> Step {}, nbinom loss: {:.4}'\n",
    "                  .format(i, loss.eval()))\n",
    "\n",
    "            print('\\nEstimated parameter mu: {}'.format(param_mu.eval()))\n",
    "            \n",
    "    print('Estimated parameter theta: {}'.format(param_theta.eval()))\n",
    "    print('Sample mean: {}'.format(np.mean(nb_samples)))\n",
    "    print('True parameter mu: {}'.format(nb_mean))\n",
    "    print('True parameter theta: {}'.format(nb_disp))"
   ]
  },
  {
   "cell_type": "markdown",
   "metadata": {},
   "source": [
    "# Multivariate Negative Binomial Regression in Keras\n",
    "\n",
    "## Generate toy data\n",
    "\n",
    "Let's generate a toy data with 1000 observations, 10 features (predictors) and 2 response (output) variables:\n",
    "\n",
    "$$ \\textbf{Y} \\sim \\text{NB}(f(\\textbf{X}\\cdot \\textbf{W}), \\theta)$$\n",
    "\n",
    "where $X\\in \\mathbb{R}^{1000\\times10}$ and $W\\in\\mathbb{R}^{10\\times2}$ are randomly generated data and parameter matrices. $f(x)=\\text{SoftPlus}(x)=\\log(1+\\exp(x))$ is used as a link function. \n",
    "\n",
    "Finally, we sample from negative binomial where the mean is $\\text{SoftPlus}(\\textbf{X}\\cdot \\textbf{W})$ and the dispersion parameters for 2 response variables are $\\theta=[2, 5]$."
   ]
  },
  {
   "cell_type": "code",
   "execution_count": 7,
   "metadata": {
    "collapsed": false
   },
   "outputs": [
    {
     "name": "stdout",
     "output_type": "stream",
     "text": [
      "[[ 23   0   6   0  14  17  23 164  17   0  11   0   0  31   3   0   1  12\n",
      "   10   0]\n",
      " [ 23   0   7   0  20   3  26   5   7   0  11   0   0  61   1   0  30  12\n",
      "   13   0]\n",
      " [  6   0  25   0  13  64  28  71  20   3  56   0   0   2   0   0 328  18\n",
      "    8   0]\n",
      " [  8   0  63   0  18  25  15   2   9   0  30   0   0  55   1   0  20  14\n",
      "   19   0]\n",
      " [  7   0   0   0  15   2  18  30   3   0   0   0   0  59   2   0  99  15\n",
      "    9   0]]\n"
     ]
    }
   ],
   "source": [
    "softplus = lambda x: np.log(1+np.exp(x))\n",
    "\n",
    "num_sample = 1000\n",
    "num_feat = 1\n",
    "num_out = 20\n",
    "dispersion = np.random.uniform(0, 2, [1, num_out])\n",
    "\n",
    "X = np.random.normal(5, 0.5, (num_sample, num_feat)).astype(np.float32)\n",
    "W = np.random.normal(2, 4, (num_feat, num_out)).astype(np.float32)\n",
    "b = np.zeros([num_out]) + 0.0\n",
    "y_mean = softplus(np.dot(X, W) + b)\n",
    "y_disp = np.zeros_like(y_mean) + dispersion\n",
    "\n",
    "Y = random_nbinom(mean=y_mean, disp=y_disp)\n",
    "print(Y[:5])"
   ]
  },
  {
   "cell_type": "markdown",
   "metadata": {},
   "source": [
    "Now let's implement a neural network model in Keras using NB loss function:"
   ]
  },
  {
   "cell_type": "code",
   "execution_count": 8,
   "metadata": {
    "collapsed": false
   },
   "outputs": [
    {
     "name": "stderr",
     "output_type": "stream",
     "text": [
      "Using TensorFlow backend.\n"
     ]
    },
    {
     "name": "stdout",
     "output_type": "stream",
     "text": [
      "Estimated theta parameter(s): [ 0.425639    4.09175396  1.4583143   4.09955978  0.18693031  1.41824543\n",
      "  0.13050652  1.09722233  1.35983253  0.32310885  1.62046909  3.86037254\n",
      "  0.00645635  0.96876144  0.4767904   4.21387291  1.81472611  0.14270703\n",
      "  0.41223344  4.17429113]\n",
      "True theta parameter(s): [[ 0.48320255  1.36256422  1.43196939  1.21464883  0.17715668  1.35374455\n",
      "   0.12818942  1.1922853   1.47916235  0.42193978  1.68324402  0.06070761\n",
      "   1.68762573  0.9206581   0.43517588  0.26755629  1.90661434  0.14533118\n",
      "   0.39818684  0.69564469]]\n"
     ]
    },
    {
     "data": {
      "image/png": "[encoded data removed]",
      "text/plain": [
       "<matplotlib.figure.Figure at 0x7fd7c07c8dd8>"
      ]
     },
     "metadata": {},
     "output_type": "display_data"
    }
   ],
   "source": [
    "import os\n",
    "os.environ['KERAS_BACKEND'] = 'tensorflow'\n",
    "\n",
    "from keras.models import Model\n",
    "from keras.layers import Input, Dense\n",
    "from keras.callbacks import EarlyStopping, TensorBoard\n",
    "from keras.optimizers import RMSprop\n",
    "from keras import backend as K\n",
    "\n",
    "K.clear_session()\n",
    "\n",
    "inputs = Input(shape=(num_feat,))\n",
    "output_layer = Dense(num_out, activation='softplus', bias=False)\n",
    "\n",
    "# Ugly hack to inject trainable weights to Keras graph\n",
    "# otherwise theta is not optimized at all\n",
    "nb_theta = output_layer.add_weight(shape=[num_out],\n",
    "                                   initializer='zero',\n",
    "                                   trainable=True)\n",
    "\n",
    "# Use this new keras-optimizible variable in the loss function\n",
    "nb_loss, nb_theta = nbinom_closure(nb_theta)\n",
    "\n",
    "predictions = output_layer(inputs)\n",
    "model = Model(input=inputs, output=predictions)\n",
    "\n",
    "opt = RMSprop(lr=1e-3)\n",
    "model.compile(optimizer=opt,\n",
    "              loss=nb_loss) #nbinom loss function\n",
    "\n",
    "early_stop = EarlyStopping(monitor='val_loss', patience=10)\n",
    "tb = TensorBoard(log_dir='./logs', histogram_freq=1)\n",
    "\n",
    "losses = model.fit(X, Y,\n",
    "                   callbacks=[early_stop, tb],\n",
    "                   batch_size=32,\n",
    "                   validation_split=0.2,\n",
    "                   nb_epoch=5000, verbose=0)\n",
    "\n",
    "val_hist = losses.history['val_loss']\n",
    "train_hist = losses.history['loss']\n",
    "\n",
    "print('Estimated theta parameter(s): {}'.format(K.eval(nb_theta)))\n",
    "print('True theta parameter(s): {}'.format(dispersion))\n",
    "\n",
    "plt.plot(range(len(val_hist)), val_hist, 'b.-',\n",
    "         range(len(train_hist)), train_hist, 'g.-')\n",
    "plt.ylabel('Loss')\n",
    "_ = plt.xlabel('Steps')"
   ]
  },
  {
   "cell_type": "markdown",
   "metadata": {},
   "source": [
    "Now let's compare true parameters to model parameters:"
   ]
  },
  {
   "cell_type": "code",
   "execution_count": 9,
   "metadata": {
    "collapsed": false
   },
   "outputs": [
    {
     "data": {
      "image/png": "[encoded data removed]",
      "text/plain": [
       "<matplotlib.figure.Figure at 0x7fd7cb6e0400>"
      ]
     },
     "metadata": {},
     "output_type": "display_data"
    }
   ],
   "source": [
    "x = K.eval(model.layers[1].W).reshape(-1)\n",
    "y = W.reshape(-1)\n",
    "plt.scatter(x, y)\n",
    "plt.plot([min(x), max(x)], [(min(x)), max(x)], \"g--\") #poor man's abline\n",
    "plt.xlabel('Estimated parameters')\n",
    "_ = plt.ylabel('True parameters')"
   ]
  },
  {
   "cell_type": "markdown",
   "metadata": {},
   "source": [
    "Go to [Tensorboard](http://localhost:6006) for more fun!"
   ]
  }
 ],
 "metadata": {
  "anaconda-cloud": {},
  "kernelspec": {
   "display_name": "Python [default]",
   "language": "python",
   "name": "python3"
  },
  "language_info": {
   "codemirror_mode": {
    "name": "ipython",
    "version": 3
   },
   "file_extension": ".py",
   "mimetype": "text/x-python",
   "name": "python",
   "nbconvert_exporter": "python",
   "pygments_lexer": "ipython3",
   "version": "3.5.2"
  }
 },
 "nbformat": 4,
 "nbformat_minor": 2
}
